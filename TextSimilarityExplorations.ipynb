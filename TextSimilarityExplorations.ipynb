{
  "cells": [
    {
      "cell_type": "markdown",
      "metadata": {
        "id": "zpKis_ac9-Oc"
      },
      "source": [
        "# Set Up"
      ]
    },
    {
      "cell_type": "code",
      "execution_count": null,
      "metadata": {
        "colab": {
          "base_uri": "https://localhost:8080/",
          "height": 34
        },
        "id": "PbaBQPa66ML7",
        "outputId": "59adadf0-b45e-427f-d24c-80a85fe1e80c"
      },
      "outputs": [
        {
          "name": "stdout",
          "output_type": "stream",
          "text": [
            "Mounted at /content/gdrive\n"
          ]
        }
      ],
      "source": [
        "from google.colab import drive\n",
        "drive.mount('/content/gdrive')"
      ]
    },
    {
      "cell_type": "code",
      "execution_count": null,
      "metadata": {
        "colab": {
          "base_uri": "https://localhost:8080/",
          "height": 105
        },
        "id": "utYJKuz0-NAk",
        "outputId": "0eb6a72e-e7f5-456f-9943-24983c6c9fd7"
      },
      "outputs": [
        {
          "name": "stdout",
          "output_type": "stream",
          "text": [
            "[nltk_data] Downloading package punkt to /root/nltk_data...\n",
            "[nltk_data]   Package punkt is already up-to-date!\n"
          ]
        },
        {
          "name": "stderr",
          "output_type": "stream",
          "text": [
            "/usr/local/lib/python3.6/dist-packages/ipykernel_launcher.py:12: FutureWarning: Passing a negative integer is deprecated in version 1.0 and will not be supported in future version. Instead, use None to not limit the column width.\n",
            "  if sys.path[0] == '':\n"
          ]
        }
      ],
      "source": [
        "import gensim\n",
        "from gensim.models import KeyedVectors\n",
        "import numpy as np\n",
        "import pandas as pd\n",
        "\n",
        "import nltk\n",
        "from nltk import word_tokenize\n",
        "nltk.download('punkt')\n",
        "\n",
        "from scipy.spatial.distance import cosine\n",
        "\n",
        "pd.set_option('display.max_colwidth', -1)"
      ]
    },
    {
      "cell_type": "markdown",
      "metadata": {
        "id": "OwEICN_918Ko"
      },
      "source": [
        "# Read in data"
      ]
    },
    {
      "cell_type": "markdown",
      "metadata": {
        "id": "dIFXldFi2Ap6"
      },
      "source": [
        "## Read in Word2Vec vectors data"
      ]
    },
    {
      "cell_type": "code",
      "execution_count": null,
      "metadata": {
        "colab": {
          "base_uri": "https://localhost:8080/",
          "height": 71
        },
        "id": "K1Bw-XwN-2sj",
        "outputId": "a05edb59-28b4-4a12-ce6a-96c6d25bab1f"
      },
      "outputs": [
        {
          "name": "stderr",
          "output_type": "stream",
          "text": [
            "/usr/local/lib/python3.6/dist-packages/smart_open/smart_open_lib.py:254: UserWarning: This function is deprecated, use smart_open.open instead. See the migration notes for details: https://github.com/RaRe-Technologies/smart_open/blob/master/README.rst#migrating-to-the-new-open-function\n",
            "  'See the migration notes for details: %s' % _MIGRATION_NOTES_URL\n"
          ]
        }
      ],
      "source": [
        "wv = KeyedVectors.load_word2vec_format('/content/gdrive/My Drive/Colab Notebooks/Octopus2/BlazingText/vectors.txt', binary=False)"
      ]
    },
    {
      "cell_type": "markdown",
      "metadata": {
        "id": "vMuqdUzM2GlZ"
      },
      "source": [
        "## Read in bug data"
      ]
    },
    {
      "cell_type": "code",
      "execution_count": null,
      "metadata": {
        "id": "L0MgVyHb2L5E"
      },
      "outputs": [],
      "source": [
        "dataset = pd.read_csv(\"/content/gdrive/My Drive/Colab Notebooks/Octopus2/JIRA_OPEN_DATA_ZOOKEEPER.csv\")"
      ]
    },
    {
      "cell_type": "code",
      "execution_count": null,
      "metadata": {
        "colab": {
          "base_uri": "https://localhost:8080/",
          "height": 479
        },
        "id": "mi77fGli2X1U",
        "outputId": "e2a48943-f012-4bfa-eff4-ad28c7667ada"
      },
      "outputs": [
        {
          "data": {
            "text/html": [
              "<div>\n",
              "<style scoped>\n",
              "    .dataframe tbody tr th:only-of-type {\n",
              "        vertical-align: middle;\n",
              "    }\n",
              "\n",
              "    .dataframe tbody tr th {\n",
              "        vertical-align: top;\n",
              "    }\n",
              "\n",
              "    .dataframe thead th {\n",
              "        text-align: right;\n",
              "    }\n",
              "</style>\n",
              "<table border=\"1\" class=\"dataframe\">\n",
              "  <thead>\n",
              "    <tr style=\"text-align: right;\">\n",
              "      <th></th>\n",
              "      <th>id</th>\n",
              "      <th>created</th>\n",
              "      <th>description</th>\n",
              "      <th>key</th>\n",
              "      <th>priority</th>\n",
              "      <th>project</th>\n",
              "      <th>project_name</th>\n",
              "      <th>repositoryname</th>\n",
              "      <th>resolution</th>\n",
              "      <th>resolved</th>\n",
              "      <th>status</th>\n",
              "      <th>title</th>\n",
              "      <th>type</th>\n",
              "      <th>updated</th>\n",
              "      <th>votes</th>\n",
              "      <th>watchers</th>\n",
              "      <th>assignee_id</th>\n",
              "      <th>reporter_id</th>\n",
              "    </tr>\n",
              "  </thead>\n",
              "  <tbody>\n",
              "    <tr>\n",
              "      <th>0</th>\n",
              "      <td>16037</td>\n",
              "      <td>2011-06-16 22:07:44.375</td>\n",
              "      <td>traverseNode in DataTree will never actually t...</td>\n",
              "      <td>ZOOKEEPER-1097</td>\n",
              "      <td>Blocker</td>\n",
              "      <td>ZOOKEEPER</td>\n",
              "      <td>ZooKeeper</td>\n",
              "      <td>ASF</td>\n",
              "      <td>Fixed</td>\n",
              "      <td>2011-06-27 07:30:59.505</td>\n",
              "      <td>Closed</td>\n",
              "      <td>Quota is not correctly rehydrated on snapshot ...</td>\n",
              "      <td>Bug</td>\n",
              "      <td>2011-11-24 03:22:06.217</td>\n",
              "      <td>0</td>\n",
              "      <td>0</td>\n",
              "      <td>7832.0</td>\n",
              "      <td>7832</td>\n",
              "    </tr>\n",
              "    <tr>\n",
              "      <th>1</th>\n",
              "      <td>16615</td>\n",
              "      <td>2009-08-07 08:57:50.287</td>\n",
              "      <td>when calling the asynchronous version of creat...</td>\n",
              "      <td>ZOOKEEPER-502</td>\n",
              "      <td>Major</td>\n",
              "      <td>ZOOKEEPER</td>\n",
              "      <td>ZooKeeper</td>\n",
              "      <td>ASF</td>\n",
              "      <td>Fixed</td>\n",
              "      <td>2010-01-27 07:19:07.334</td>\n",
              "      <td>Closed</td>\n",
              "      <td>bookkeeper create calls completion too many times</td>\n",
              "      <td>Bug</td>\n",
              "      <td>2010-03-27 01:24:56.283</td>\n",
              "      <td>0</td>\n",
              "      <td>0</td>\n",
              "      <td>7750.0</td>\n",
              "      <td>7829</td>\n",
              "    </tr>\n",
              "    <tr>\n",
              "      <th>2</th>\n",
              "      <td>16189</td>\n",
              "      <td>2010-11-20 06:12:26.124</td>\n",
              "      <td>test -e FILENAME is not support on /bin/sh in ...</td>\n",
              "      <td>ZOOKEEPER-937</td>\n",
              "      <td>Major</td>\n",
              "      <td>ZOOKEEPER</td>\n",
              "      <td>ZooKeeper</td>\n",
              "      <td>ASF</td>\n",
              "      <td>Fixed</td>\n",
              "      <td>2010-12-08 03:02:17.059</td>\n",
              "      <td>Closed</td>\n",
              "      <td>test -e not available on solaris /bin/sh</td>\n",
              "      <td>Bug</td>\n",
              "      <td>2011-11-24 03:21:59.751</td>\n",
              "      <td>0</td>\n",
              "      <td>0</td>\n",
              "      <td>8219.0</td>\n",
              "      <td>8219</td>\n",
              "    </tr>\n",
              "    <tr>\n",
              "      <th>3</th>\n",
              "      <td>16616</td>\n",
              "      <td>2009-08-07 06:11:42.25</td>\n",
              "      <td>It timed out according to the console output:h...</td>\n",
              "      <td>ZOOKEEPER-501</td>\n",
              "      <td>Major</td>\n",
              "      <td>ZOOKEEPER</td>\n",
              "      <td>ZooKeeper</td>\n",
              "      <td>ASF</td>\n",
              "      <td>Fixed</td>\n",
              "      <td>2009-08-08 05:03:30.561</td>\n",
              "      <td>Closed</td>\n",
              "      <td>CnxManagerTest failed on hudson</td>\n",
              "      <td>Bug</td>\n",
              "      <td>2009-09-06 06:36:20.729</td>\n",
              "      <td>0</td>\n",
              "      <td>0</td>\n",
              "      <td>7750.0</td>\n",
              "      <td>7750</td>\n",
              "    </tr>\n",
              "    <tr>\n",
              "      <th>4</th>\n",
              "      <td>16934</td>\n",
              "      <td>2008-10-07 04:50:15.001</td>\n",
              "      <td>fast leader election test failing .</td>\n",
              "      <td>ZOOKEEPER-178</td>\n",
              "      <td>Major</td>\n",
              "      <td>ZOOKEEPER</td>\n",
              "      <td>ZooKeeper</td>\n",
              "      <td>ASF</td>\n",
              "      <td>Fixed</td>\n",
              "      <td>2008-10-11 07:16:55.237</td>\n",
              "      <td>Closed</td>\n",
              "      <td>FLE test.</td>\n",
              "      <td>Bug</td>\n",
              "      <td>2008-10-26 09:10:43.46</td>\n",
              "      <td>0</td>\n",
              "      <td>0</td>\n",
              "      <td>7750.0</td>\n",
              "      <td>7827</td>\n",
              "    </tr>\n",
              "  </tbody>\n",
              "</table>\n",
              "</div>"
            ],
            "text/plain": [
              "      id                  created  ... assignee_id reporter_id\n",
              "0  16037  2011-06-16 22:07:44.375  ...      7832.0        7832\n",
              "1  16615  2009-08-07 08:57:50.287  ...      7750.0        7829\n",
              "2  16189  2010-11-20 06:12:26.124  ...      8219.0        8219\n",
              "3  16616   2009-08-07 06:11:42.25  ...      7750.0        7750\n",
              "4  16934  2008-10-07 04:50:15.001  ...      7750.0        7827\n",
              "\n",
              "[5 rows x 18 columns]"
            ]
          },
          "execution_count": 9,
          "metadata": {
            "tags": []
          },
          "output_type": "execute_result"
        }
      ],
      "source": [
        "dataset.head()"
      ]
    },
    {
      "cell_type": "code",
      "execution_count": null,
      "metadata": {
        "colab": {
          "base_uri": "https://localhost:8080/",
          "height": 34
        },
        "id": "o6TWaciL2iuS",
        "outputId": "55aae5d2-6156-4902-f118-ebf92aae74d8"
      },
      "outputs": [
        {
          "data": {
            "text/plain": [
              "(447, 18)"
            ]
          },
          "execution_count": 11,
          "metadata": {
            "tags": []
          },
          "output_type": "execute_result"
        }
      ],
      "source": [
        "dataset.shape"
      ]
    },
    {
      "cell_type": "code",
      "execution_count": null,
      "metadata": {
        "colab": {
          "base_uri": "https://localhost:8080/",
          "height": 119
        },
        "id": "gsiuyEVB2tXC",
        "outputId": "705cf62d-7f20-4264-cb04-fcecbc8cb998"
      },
      "outputs": [
        {
          "name": "stderr",
          "output_type": "stream",
          "text": [
            "/usr/local/lib/python3.6/dist-packages/ipykernel_launcher.py:2: SettingWithCopyWarning: \n",
            "A value is trying to be set on a copy of a slice from a DataFrame.\n",
            "Try using .loc[row_indexer,col_indexer] = value instead\n",
            "\n",
            "See the caveats in the documentation: https://pandas.pydata.org/pandas-docs/stable/user_guide/indexing.html#returning-a-view-versus-a-copy\n",
            "  \n"
          ]
        }
      ],
      "source": [
        "df = dataset[[\"id\",\"title\",\"description\"]]\n",
        "df[\"features\"] = df[\"title\"] + \" \" + df[\"description\"]"
      ]
    },
    {
      "cell_type": "code",
      "execution_count": null,
      "metadata": {
        "colab": {
          "base_uri": "https://localhost:8080/",
          "height": 35
        },
        "id": "qMsFn9tT3bWg",
        "outputId": "70f14db3-f4c7-4c46-f2d3-6eff331e9ed7"
      },
      "outputs": [
        {
          "data": {
            "application/vnd.google.colaboratory.intrinsic+json": {
              "type": "string"
            },
            "text/plain": [
              "'traverseNode in DataTree will never actually traverse the limit nodes properly.'"
            ]
          },
          "execution_count": 16,
          "metadata": {
            "tags": []
          },
          "output_type": "execute_result"
        }
      ],
      "source": [
        "df.iloc[0].description"
      ]
    },
    {
      "cell_type": "markdown",
      "metadata": {
        "id": "aHeevDEX4ELj"
      },
      "source": [
        "## Pre-proecess the data"
      ]
    },
    {
      "cell_type": "code",
      "execution_count": null,
      "metadata": {
        "colab": {
          "base_uri": "https://localhost:8080/",
          "height": 119
        },
        "id": "fvQc7FKM4UF8",
        "outputId": "7b5ae0e8-dedb-4814-fadf-af2f93afaa32"
      },
      "outputs": [
        {
          "name": "stderr",
          "output_type": "stream",
          "text": [
            "/usr/local/lib/python3.6/dist-packages/pandas/core/generic.py:5303: SettingWithCopyWarning: \n",
            "A value is trying to be set on a copy of a slice from a DataFrame.\n",
            "Try using .loc[row_indexer,col_indexer] = value instead\n",
            "\n",
            "See the caveats in the documentation: https://pandas.pydata.org/pandas-docs/stable/user_guide/indexing.html#returning-a-view-versus-a-copy\n",
            "  self[name] = value\n"
          ]
        }
      ],
      "source": [
        "df.features = df.features.str.replace(r\"[\\n\\r\\t]+\", \" \")\n",
        "df.features = df.features.str.replace(r\"([a-zA-Z0-9_\\-\\.]+)@([a-zA-Z0-9_\\-\\.]+)\\.([a-zA-Z]{2,5})\", \" \")\n",
        "df.features = df.features.str.replace(r\"((http[s]?|ftp):\\/)?\\/?([^:\\/\\s]+)((\\/\\w+)*\\/)([\\w\\-\\.]+[^#?\\s]+)(.*)?(#[\\w\\-]+)?\", \" \")"
      ]
    },
    {
      "cell_type": "markdown",
      "metadata": {
        "id": "uNeN3BYL_HUC"
      },
      "source": [
        "# Trials"
      ]
    },
    {
      "cell_type": "code",
      "execution_count": null,
      "metadata": {
        "colab": {
          "base_uri": "https://localhost:8080/",
          "height": 374
        },
        "id": "ZcstI48U_KLZ",
        "outputId": "a53c4bfc-ae84-472d-c939-af25d81c19d9"
      },
      "outputs": [
        {
          "data": {
            "text/plain": [
              "array([ 0.36202  ,  0.18874  ,  0.014292 ,  0.018345 , -0.067648 ,\n",
              "       -0.0038506, -0.20193  ,  0.023967 ,  0.018613 , -0.2605   ,\n",
              "        0.015813 ,  0.20041  ,  0.10091  , -0.0014307, -0.33163  ,\n",
              "       -0.15461  ,  0.0092849, -0.31506  ,  0.38153  , -0.020468 ,\n",
              "        0.33256  , -0.23752  ,  0.40424  ,  0.38221  , -0.20056  ,\n",
              "       -0.042237 , -0.21792  , -0.057863 , -0.35658  ,  0.42043  ,\n",
              "        0.10321  ,  0.21758  ,  0.12475  ,  0.13214  , -0.20416  ,\n",
              "       -0.11204  ,  0.23354  , -0.30087  , -0.49845  , -0.12395  ,\n",
              "        0.054311 , -0.49731  , -0.069404 ,  0.03734  , -0.113    ,\n",
              "       -0.32384  ,  0.30196  , -0.30818  ,  0.10555  ,  0.23114  ,\n",
              "        0.14907  , -0.24687  ,  0.75232  ,  0.023668 , -0.14475  ,\n",
              "       -0.34755  , -0.091158 ,  0.089999 , -0.11648  , -0.16598  ,\n",
              "       -0.12745  , -0.32539  , -0.14271  ,  0.22794  ,  0.024229 ,\n",
              "       -0.05933  ,  0.41251  ,  0.62322  ,  0.067386 ,  0.25472  ,\n",
              "        0.057332 , -0.097352 ,  0.037767 ,  0.12693  , -0.69509  ,\n",
              "        0.024399 ,  0.22776  ,  0.38732  , -0.29507  , -0.1785   ,\n",
              "        0.29338  , -0.38467  , -0.41831  ,  0.17422  ,  0.33083  ,\n",
              "        0.216    ,  0.72684  , -0.090389 , -0.23454  ,  0.20474  ,\n",
              "        0.048317 ,  0.10473  , -0.12712  ,  0.029918 ,  0.14609  ,\n",
              "       -0.37691  , -0.49564  ,  0.14349  , -0.32063  , -0.1685   ],\n",
              "      dtype=float32)"
            ]
          },
          "execution_count": 5,
          "metadata": {
            "tags": []
          },
          "output_type": "execute_result"
        }
      ],
      "source": [
        "wv['bug']"
      ]
    },
    {
      "cell_type": "code",
      "execution_count": null,
      "metadata": {
        "colab": {
          "base_uri": "https://localhost:8080/",
          "height": 34
        },
        "id": "lG-rJRAm_Mx_",
        "outputId": "e7485976-d467-43bd-d6d2-ec01f0c048dc"
      },
      "outputs": [
        {
          "name": "stdout",
          "output_type": "stream",
          "text": [
            "False\n"
          ]
        }
      ],
      "source": [
        "print(\"hello\" in wv.vocab)"
      ]
    },
    {
      "cell_type": "code",
      "execution_count": null,
      "metadata": {
        "colab": {
          "base_uri": "https://localhost:8080/",
          "height": 34
        },
        "id": "gBIaSdwkC-I1",
        "outputId": "bcd44d18-6a07-48bb-f5cc-526816ee4640"
      },
      "outputs": [
        {
          "data": {
            "text/plain": [
              "0.3196036219596863"
            ]
          },
          "execution_count": 24,
          "metadata": {
            "tags": []
          },
          "output_type": "execute_result"
        }
      ],
      "source": [
        "1 - cosine(wv[\"bug\"], wv[\"issue\"])"
      ]
    },
    {
      "cell_type": "code",
      "execution_count": null,
      "metadata": {
        "id": "7FfwyYlRB8hR"
      },
      "outputs": [],
      "source": [
        "def sentance2vector(sentance):\n",
        "  tokens = word_tokenize(sentance)\n",
        "  vector = np.zeros(100)\n",
        "  for token in tokens:\n",
        "    if token in wv.vocab:\n",
        "      vector = vector + wv[token]\n",
        "  return vector\n",
        "\n",
        "def cosineSimilarity(v1, v2):\n",
        "  return 1 - cosine(v1,v2)"
      ]
    },
    {
      "cell_type": "code",
      "execution_count": null,
      "metadata": {
        "colab": {
          "base_uri": "https://localhost:8080/",
          "height": 357
        },
        "id": "_BXMQ985-KEx",
        "outputId": "707211e0-7bb3-4582-ddf6-6311c4be743f"
      },
      "outputs": [
        {
          "data": {
            "text/plain": [
              "array([ 2.93620969,  0.22524796,  1.701629  ,  0.532088  ,  0.22955939,\n",
              "       -3.98423696, -2.50797306, -0.82110797, -0.89350101, -1.25580599,\n",
              "       -1.758363  ,  1.7649057 ,  2.26447844, -0.11195838, -3.73000495,\n",
              "        0.33985903,  2.178708  , -1.39556498,  5.25017007, -4.42579602,\n",
              "        0.15709999, -2.64368563, -2.43452731,  6.11704623,  3.45482102,\n",
              "        3.42755905, -1.987559  , -0.0995829 , -1.73860292,  1.445238  ,\n",
              "       -2.03259093,  4.71634576, -0.29738989,  4.23863598, -0.16602048,\n",
              "       -4.28064704,  3.88954061, -0.194918  ,  0.24545158, -2.00796898,\n",
              "        3.27606495, -2.51088699, -3.71881605, -1.42257451,  1.92979769,\n",
              "        1.395274  ,  2.90137002, -0.97404199, -2.1143351 ,  2.02050015,\n",
              "       -3.16568191, -4.93915799,  3.59664902, -3.07710712, -4.22112602,\n",
              "       -1.88674184, -0.50927159,  0.762858  , -1.12717953, -3.40431899,\n",
              "       -1.17081594, -1.03411102, -4.96640403,  0.29252594,  3.67157991,\n",
              "       -0.41525806,  0.28964698, -1.29688004, -4.83573991, -0.5257671 ,\n",
              "        1.62316908, -1.560773  ,  0.982795  , -2.13844901, -4.11022995,\n",
              "       -0.1535051 ,  2.27226544, -0.72844502, -3.42073997,  0.77969512,\n",
              "        3.26318093, -0.916074  , -1.96691638,  0.11508489,  2.96327403,\n",
              "        1.56688899,  2.50232401,  2.33506659, -0.01062696,  0.469125  ,\n",
              "       -1.74073   ,  3.07874798, -2.02314097, -2.7639897 ,  1.13578368,\n",
              "       -1.78980101,  0.94599111,  3.83517706, -1.34821198, -1.14817173])"
            ]
          },
          "execution_count": 37,
          "metadata": {
            "tags": []
          },
          "output_type": "execute_result"
        }
      ],
      "source": [
        "t = 0\n",
        "feature = df.iloc[t].features\n",
        "vector = sentance2vector(feature)\n",
        "vector"
      ]
    },
    {
      "cell_type": "code",
      "execution_count": null,
      "metadata": {
        "colab": {
          "base_uri": "https://localhost:8080/",
          "height": 34
        },
        "id": "hpWbR4OIBF5I",
        "outputId": "9b4bdd59-3f6e-4baf-84ff-3d00f3b46b23"
      },
      "outputs": [
        {
          "data": {
            "text/plain": [
              "1.0"
            ]
          },
          "execution_count": 35,
          "metadata": {
            "tags": []
          },
          "output_type": "execute_result"
        }
      ],
      "source": [
        "1 - cosine(vector,vector)"
      ]
    },
    {
      "cell_type": "code",
      "execution_count": null,
      "metadata": {
        "colab": {
          "base_uri": "https://localhost:8080/",
          "height": 119
        },
        "id": "LVvTY-hCDRH0",
        "outputId": "00641a6e-c4e1-4597-e4ed-38292137b866"
      },
      "outputs": [
        {
          "name": "stderr",
          "output_type": "stream",
          "text": [
            "/usr/local/lib/python3.6/dist-packages/ipykernel_launcher.py:1: SettingWithCopyWarning: \n",
            "A value is trying to be set on a copy of a slice from a DataFrame.\n",
            "Try using .loc[row_indexer,col_indexer] = value instead\n",
            "\n",
            "See the caveats in the documentation: https://pandas.pydata.org/pandas-docs/stable/user_guide/indexing.html#returning-a-view-versus-a-copy\n",
            "  \"\"\"Entry point for launching an IPython kernel.\n"
          ]
        }
      ],
      "source": [
        "df[\"score\"] = np.zeros(len(df))"
      ]
    },
    {
      "cell_type": "code",
      "execution_count": null,
      "metadata": {
        "colab": {
          "base_uri": "https://localhost:8080/",
          "height": 153
        },
        "id": "25d-dlWv8PxL",
        "outputId": "ebd506a1-4636-4822-9f96-53e482d3f4fa"
      },
      "outputs": [
        {
          "name": "stderr",
          "output_type": "stream",
          "text": [
            "/usr/local/lib/python3.6/dist-packages/pandas/core/indexing.py:966: SettingWithCopyWarning: \n",
            "A value is trying to be set on a copy of a slice from a DataFrame.\n",
            "Try using .loc[row_indexer,col_indexer] = value instead\n",
            "\n",
            "See the caveats in the documentation: https://pandas.pydata.org/pandas-docs/stable/user_guide/indexing.html#returning-a-view-versus-a-copy\n",
            "  self.obj[item] = s\n",
            "/usr/local/lib/python3.6/dist-packages/scipy/spatial/distance.py:720: RuntimeWarning: invalid value encountered in double_scalars\n",
            "  dist = 1.0 - uv / np.sqrt(uu * vv)\n"
          ]
        }
      ],
      "source": [
        "for i in range(0,len(df)):\n",
        "  # print(df.iloc[i].features)\n",
        "  vect = sentance2vector(df.iloc[i].features)\n",
        "  df.iloc[i,4] = cosineSimilarity(vector, vect)\n",
        "  # print(cosineSimilarity(vector, vect))"
      ]
    },
    {
      "cell_type": "code",
      "execution_count": null,
      "metadata": {
        "colab": {
          "base_uri": "https://localhost:8080/",
          "height": 419
        },
        "id": "WKcx7KrM9yuU",
        "outputId": "fb980e56-495a-4961-8d4f-6d0125b3ddf7"
      },
      "outputs": [
        {
          "data": {
            "text/html": [
              "<div>\n",
              "<style scoped>\n",
              "    .dataframe tbody tr th:only-of-type {\n",
              "        vertical-align: middle;\n",
              "    }\n",
              "\n",
              "    .dataframe tbody tr th {\n",
              "        vertical-align: top;\n",
              "    }\n",
              "\n",
              "    .dataframe thead th {\n",
              "        text-align: right;\n",
              "    }\n",
              "</style>\n",
              "<table border=\"1\" class=\"dataframe\">\n",
              "  <thead>\n",
              "    <tr style=\"text-align: right;\">\n",
              "      <th></th>\n",
              "      <th>id</th>\n",
              "      <th>title</th>\n",
              "      <th>description</th>\n",
              "      <th>features</th>\n",
              "      <th>score</th>\n",
              "    </tr>\n",
              "  </thead>\n",
              "  <tbody>\n",
              "    <tr>\n",
              "      <th>0</th>\n",
              "      <td>16037</td>\n",
              "      <td>Quota is not correctly rehydrated on snapshot ...</td>\n",
              "      <td>traverseNode in DataTree will never actually t...</td>\n",
              "      <td>Quota is not correctly rehydrated on snapshot ...</td>\n",
              "      <td>1.000000</td>\n",
              "    </tr>\n",
              "    <tr>\n",
              "      <th>1</th>\n",
              "      <td>16615</td>\n",
              "      <td>bookkeeper create calls completion too many times</td>\n",
              "      <td>when calling the asynchronous version of creat...</td>\n",
              "      <td>bookkeeper create calls completion too many ti...</td>\n",
              "      <td>0.765079</td>\n",
              "    </tr>\n",
              "    <tr>\n",
              "      <th>2</th>\n",
              "      <td>16189</td>\n",
              "      <td>test -e not available on solaris /bin/sh</td>\n",
              "      <td>test -e FILENAME is not support on /bin/sh in ...</td>\n",
              "      <td>test -e not available on solaris</td>\n",
              "      <td>0.698046</td>\n",
              "    </tr>\n",
              "    <tr>\n",
              "      <th>3</th>\n",
              "      <td>16616</td>\n",
              "      <td>CnxManagerTest failed on hudson</td>\n",
              "      <td>It timed out according to the console output:h...</td>\n",
              "      <td>CnxManagerTest failed on hudson It timed out a...</td>\n",
              "      <td>0.664361</td>\n",
              "    </tr>\n",
              "    <tr>\n",
              "      <th>4</th>\n",
              "      <td>16934</td>\n",
              "      <td>FLE test.</td>\n",
              "      <td>fast leader election test failing .</td>\n",
              "      <td>FLE test. fast leader election test failing .</td>\n",
              "      <td>0.626556</td>\n",
              "    </tr>\n",
              "    <tr>\n",
              "      <th>...</th>\n",
              "      <td>...</td>\n",
              "      <td>...</td>\n",
              "      <td>...</td>\n",
              "      <td>...</td>\n",
              "      <td>...</td>\n",
              "    </tr>\n",
              "    <tr>\n",
              "      <th>442</th>\n",
              "      <td>17104</td>\n",
              "      <td>Stat enchaned to include num of children and size</td>\n",
              "      <td>Moved from SourceForge to Apache.http://source...</td>\n",
              "      <td>Stat enchaned to include num of children and s...</td>\n",
              "      <td>0.721135</td>\n",
              "    </tr>\n",
              "    <tr>\n",
              "      <th>443</th>\n",
              "      <td>17105</td>\n",
              "      <td>Use enums rather than ints for types and state</td>\n",
              "      <td>Moved from SourceForge to Apache.http://source...</td>\n",
              "      <td>Use enums rather than ints for types and state...</td>\n",
              "      <td>0.734986</td>\n",
              "    </tr>\n",
              "    <tr>\n",
              "      <th>444</th>\n",
              "      <td>17106</td>\n",
              "      <td>List of problem identifiers in zookeeper.h</td>\n",
              "      <td>Submitted on behalf of Jacob. Is is possible f...</td>\n",
              "      <td>List of problem identifiers in zookeeper.h Sub...</td>\n",
              "      <td>0.645257</td>\n",
              "    </tr>\n",
              "    <tr>\n",
              "      <th>445</th>\n",
              "      <td>17109</td>\n",
              "      <td>syncLimit has slightly different comments in ...</td>\n",
              "      <td>syncLimit as documented in QuorumPeer is docum...</td>\n",
              "      <td>syncLimit has slightly different comments in ...</td>\n",
              "      <td>0.787938</td>\n",
              "    </tr>\n",
              "    <tr>\n",
              "      <th>446</th>\n",
              "      <td>17110</td>\n",
              "      <td>Synchronization issues in QuorumPeer and FastL...</td>\n",
              "      <td>There are a couple of cases of member variable...</td>\n",
              "      <td>Synchronization issues in QuorumPeer and FastL...</td>\n",
              "      <td>0.818227</td>\n",
              "    </tr>\n",
              "  </tbody>\n",
              "</table>\n",
              "<p>447 rows × 5 columns</p>\n",
              "</div>"
            ],
            "text/plain": [
              "        id  ...     score\n",
              "0    16037  ...  1.000000\n",
              "1    16615  ...  0.765079\n",
              "2    16189  ...  0.698046\n",
              "3    16616  ...  0.664361\n",
              "4    16934  ...  0.626556\n",
              "..     ...  ...       ...\n",
              "442  17104  ...  0.721135\n",
              "443  17105  ...  0.734986\n",
              "444  17106  ...  0.645257\n",
              "445  17109  ...  0.787938\n",
              "446  17110  ...  0.818227\n",
              "\n",
              "[447 rows x 5 columns]"
            ]
          },
          "execution_count": 55,
          "metadata": {
            "tags": []
          },
          "output_type": "execute_result"
        }
      ],
      "source": [
        "df"
      ]
    },
    {
      "cell_type": "code",
      "execution_count": null,
      "metadata": {
        "id": "-m793EpHC5pe"
      },
      "outputs": [],
      "source": [
        "df1 = df.loc[df.score > 0.87]"
      ]
    },
    {
      "cell_type": "code",
      "execution_count": null,
      "metadata": {
        "colab": {
          "base_uri": "https://localhost:8080/",
          "height": 603
        },
        "id": "hghE_bzgFt_Q",
        "outputId": "43fad0cc-8fa6-4e36-ab87-4027aaf65a74"
      },
      "outputs": [
        {
          "data": {
            "text/html": [
              "<div>\n",
              "<style scoped>\n",
              "    .dataframe tbody tr th:only-of-type {\n",
              "        vertical-align: middle;\n",
              "    }\n",
              "\n",
              "    .dataframe tbody tr th {\n",
              "        vertical-align: top;\n",
              "    }\n",
              "\n",
              "    .dataframe thead th {\n",
              "        text-align: right;\n",
              "    }\n",
              "</style>\n",
              "<table border=\"1\" class=\"dataframe\">\n",
              "  <thead>\n",
              "    <tr style=\"text-align: right;\">\n",
              "      <th></th>\n",
              "      <th>features</th>\n",
              "      <th>score</th>\n",
              "    </tr>\n",
              "  </thead>\n",
              "  <tbody>\n",
              "    <tr>\n",
              "      <th>0</th>\n",
              "      <td>Quota is not correctly rehydrated on snapshot reload traverseNode in DataTree will never actually traverse the limit nodes properly.</td>\n",
              "      <td>1.000000</td>\n",
              "    </tr>\n",
              "    <tr>\n",
              "      <th>45</th>\n",
              "      <td>ZooKeeperServer not starting on leader due to a race condition I have found one problem that is causing QuorumPeerMainTest:testQuorum to fail. This test uses 2 ZK servers. The test is failing because leader is not starting ZooKeeperServer after leader election. so everything halts.With the new changes, the server is now started in Leader.processAck() which is called from LeaderHandler. processAck() starts ZooKeeperServer if majority have acked NEWLEADER. The leader puts its ack in the the ackSet in Leader.lead(). Since processAck() is called from LearnerHandler it can happen that the learner's ack is processed before the leader is able to put its ack in the ackSet. When LearnerHandler invokes processAck(), the ackSet for newLeaderProposal will not have quorum (in this case 2). As a result, the ZooKeeperServer is never started on the Leader.The leader needs to ensure that its ack is put in ackSet before starting LearnerCnxAcceptor or invoke processAck() itself after adding to ackSet. I haven't had time to go through the ZAB2 changes so I am not too familiar with the code. Can</td>\n",
              "      <td>0.875181</td>\n",
              "    </tr>\n",
              "    <tr>\n",
              "      <th>71</th>\n",
              "      <td>Zookeeper stop fails if start called twice The zkServer.sh script doesn't check properly to see if a previously startedserver is still running.  If you call start twice, the second invocationwill over-write the PID file with a process that then fails due to portoccupancy.This means that stop will subsequently fail.Here is a reference that describes how init scripts should normally work:</td>\n",
              "      <td>0.875309</td>\n",
              "    </tr>\n",
              "    <tr>\n",
              "      <th>106</th>\n",
              "      <td>C Client might not cleanup correctly during close I was looking through the c-client code and noticed a situation where a counter can be incorrectly incremented and a small memory leak can occur.In zookeeper.c : add_completion(), if close_requested is true, then the completion will not be queued.  But at the end, outstanding_sync is still incremented and free() never called on the newly allocated completion_list_t.  I will submit for review a diff that I believe corrects this issue.</td>\n",
              "      <td>0.879578</td>\n",
              "    </tr>\n",
              "    <tr>\n",
              "      <th>171</th>\n",
              "      <td>explain session expiration better in the docs &amp; faq We are not clear enough (and the diagram we do have seems misleading) on _when_ session expirations are generated. In particular the fact that you only get expirations when the client is connected to the cluster, not when disconnected.we need to detail:1) when do you get expiration2) what is the sequence of events that the watcher sees, from disco state, to getting the expiration (say the expiration happens when the client is disco, what do you see in the watcher while you are getting reconnected)3) we need to give some examples of how to test this. We should be explicit that \"pulling the network cable\" on the client will not show expiration since the cliient will not be reconnected.</td>\n",
              "      <td>0.873472</td>\n",
              "    </tr>\n",
              "    <tr>\n",
              "      <th>209</th>\n",
              "      <td>The last logged zxid calculated by zookeeper servers could cause problems in leader election if data gets corrupted. It is possible that the last loggged zxid as reported by all the servers during leader election is not the last zxid that the server can upload data to. It is very much possible that some transaction or snapshot gets corrupted and the servers actually do not have valid data till last logged zxid. We need to make sure that what the servers report as there last logged zxid, they are able to load data till that zxid.</td>\n",
              "      <td>0.878573</td>\n",
              "    </tr>\n",
              "    <tr>\n",
              "      <th>271</th>\n",
              "      <td>zkCleanup.sh is flaky the zkCleanup.sh script is buggy in two ways:1) it doesn't actually pass through the snapshot count, so it doesn't work2) it assumes that there is only dataDir, it doesn't support dataLogDirAnd it can use cleanup, so that it doesn't blindly call eval from the config file..</td>\n",
              "      <td>0.871896</td>\n",
              "    </tr>\n",
              "    <tr>\n",
              "      <th>319</th>\n",
              "      <td>Issues with FLENewEpochTest I have been able to identify two reasons that cause FLENewEpochTest to fail:1- There is a race condition that is triggered when two peers try to establish a connection to each other for leader election. Basically, if they start roughly at the same time, the server with highest id will try to open two connections. The two competing connections will lead to one notification message to be lost. This message happens to be critical for this two process scenario; 2- The code to shut down a peer is not working well with the unit tests. For this particular unit test, we need to be able to shut down a peer completely to check the situation the test tries to reproduce. However, it seems that in some runs timing causes the other peers to believe it is still alive, and end up electing it. This peer, however, eventually shuts down and leader election fails.</td>\n",
              "      <td>0.874254</td>\n",
              "    </tr>\n",
              "  </tbody>\n",
              "</table>\n",
              "</div>"
            ],
            "text/plain": [
              "                                                                                                                                                                                                                                                                                                                                                                                                                                                                                                                                                                                                                                                                                                                                                                                                                                                                                                                                                                                                                                                                                                                                  features  \\\n",
              "0    Quota is not correctly rehydrated on snapshot reload traverseNode in DataTree will never actually traverse the limit nodes properly.                                                                                                                                                                                                                                                                                                                                                                                                                                                                                                                                                                                                                                                                                                                                                                                                                                                                                                                                                                                                    \n",
              "45   ZooKeeperServer not starting on leader due to a race condition I have found one problem that is causing QuorumPeerMainTest:testQuorum to fail. This test uses 2 ZK servers. The test is failing because leader is not starting ZooKeeperServer after leader election. so everything halts.With the new changes, the server is now started in Leader.processAck() which is called from LeaderHandler. processAck() starts ZooKeeperServer if majority have acked NEWLEADER. The leader puts its ack in the the ackSet in Leader.lead(). Since processAck() is called from LearnerHandler it can happen that the learner's ack is processed before the leader is able to put its ack in the ackSet. When LearnerHandler invokes processAck(), the ackSet for newLeaderProposal will not have quorum (in this case 2). As a result, the ZooKeeperServer is never started on the Leader.The leader needs to ensure that its ack is put in ackSet before starting LearnerCnxAcceptor or invoke processAck() itself after adding to ackSet. I haven't had time to go through the ZAB2 changes so I am not too familiar with the code. Can     \n",
              "71   Zookeeper stop fails if start called twice The zkServer.sh script doesn't check properly to see if a previously startedserver is still running.  If you call start twice, the second invocationwill over-write the PID file with a process that then fails due to portoccupancy.This means that stop will subsequently fail.Here is a reference that describes how init scripts should normally work:                                                                                                                                                                                                                                                                                                                                                                                                                                                                                                                                                                                                                                                                                                                                   \n",
              "106  C Client might not cleanup correctly during close I was looking through the c-client code and noticed a situation where a counter can be incorrectly incremented and a small memory leak can occur.In zookeeper.c : add_completion(), if close_requested is true, then the completion will not be queued.  But at the end, outstanding_sync is still incremented and free() never called on the newly allocated completion_list_t.  I will submit for review a diff that I believe corrects this issue.                                                                                                                                                                                                                                                                                                                                                                                                                                                                                                                                                                                                                                 \n",
              "171  explain session expiration better in the docs & faq We are not clear enough (and the diagram we do have seems misleading) on _when_ session expirations are generated. In particular the fact that you only get expirations when the client is connected to the cluster, not when disconnected.we need to detail:1) when do you get expiration2) what is the sequence of events that the watcher sees, from disco state, to getting the expiration (say the expiration happens when the client is disco, what do you see in the watcher while you are getting reconnected)3) we need to give some examples of how to test this. We should be explicit that \"pulling the network cable\" on the client will not show expiration since the cliient will not be reconnected.                                                                                                                                                                                                                                                                                                                                                                \n",
              "209  The last logged zxid calculated by zookeeper servers could cause problems in leader election if data gets corrupted. It is possible that the last loggged zxid as reported by all the servers during leader election is not the last zxid that the server can upload data to. It is very much possible that some transaction or snapshot gets corrupted and the servers actually do not have valid data till last logged zxid. We need to make sure that what the servers report as there last logged zxid, they are able to load data till that zxid.                                                                                                                                                                                                                                                                                                                                                                                                                                                                                                                                                                                  \n",
              "271  zkCleanup.sh is flaky the zkCleanup.sh script is buggy in two ways:1) it doesn't actually pass through the snapshot count, so it doesn't work2) it assumes that there is only dataDir, it doesn't support dataLogDirAnd it can use cleanup, so that it doesn't blindly call eval from the config file..                                                                                                                                                                                                                                                                                                                                                                                                                                                                                                                                                                                                                                                                                                                                                                                                                                 \n",
              "319  Issues with FLENewEpochTest I have been able to identify two reasons that cause FLENewEpochTest to fail:1- There is a race condition that is triggered when two peers try to establish a connection to each other for leader election. Basically, if they start roughly at the same time, the server with highest id will try to open two connections. The two competing connections will lead to one notification message to be lost. This message happens to be critical for this two process scenario; 2- The code to shut down a peer is not working well with the unit tests. For this particular unit test, we need to be able to shut down a peer completely to check the situation the test tries to reproduce. However, it seems that in some runs timing causes the other peers to believe it is still alive, and end up electing it. This peer, however, eventually shuts down and leader election fails.                                                                                                                                                                                                                    \n",
              "\n",
              "        score  \n",
              "0    1.000000  \n",
              "45   0.875181  \n",
              "71   0.875309  \n",
              "106  0.879578  \n",
              "171  0.873472  \n",
              "209  0.878573  \n",
              "271  0.871896  \n",
              "319  0.874254  "
            ]
          },
          "execution_count": 69,
          "metadata": {
            "tags": []
          },
          "output_type": "execute_result"
        }
      ],
      "source": [
        "df2 = df1[[\"features\",\"score\"]]\n",
        "df2"
      ]
    },
    {
      "cell_type": "code",
      "execution_count": null,
      "metadata": {
        "id": "AsnSRzbrGxxQ"
      },
      "outputs": [],
      "source": []
    }
  ],
  "metadata": {
    "colab": {
      "name": "TextSimilarityExplorations.ipynb",
      "provenance": []
    },
    "kernelspec": {
      "display_name": "Python 3",
      "name": "python3"
    }
  },
  "nbformat": 4,
  "nbformat_minor": 0
}
