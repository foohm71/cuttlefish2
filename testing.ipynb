{
 "cells": [
  {
   "cell_type": "code",
   "execution_count": 1,
   "metadata": {},
   "outputs": [],
   "source": [
    "import requests\n",
    "import numpy as np\n",
    "import pandas as pd\n"
   ]
  },
  {
   "cell_type": "code",
   "execution_count": null,
   "metadata": {},
   "outputs": [],
   "source": []
  },
  {
   "cell_type": "code",
   "execution_count": 10,
   "metadata": {},
   "outputs": [],
   "source": [
    "payload = {'target': {'id': '12','title': 'mary had a little lamb', 'description': 'mary had a little lamb its fleece was white as snow'}, 'corpus':[{'id': '15', 'title': 'the quick brown fox', 'description':'hey diddle diddle, the cat and the fiddle'},{'id': '200', 'title':'the cow jumped over the moon', 'description':'the rain in spain fell mainly in the plain'}, {'id': '345', 'title': 'have a happy happy new year', 'description': None}]}"
   ]
  },
  {
   "cell_type": "code",
   "execution_count": 11,
   "metadata": {},
   "outputs": [
    {
     "name": "stdout",
     "output_type": "stream",
     "text": [
      "{'target': {'id': '12', 'title': 'mary had a little lamb', 'description': 'mary had a little lamb its fleece was white as snow'}, 'corpus': [{'id': '15', 'title': 'the quick brown fox', 'description': 'hey diddle diddle, the cat and the fiddle'}, {'id': '200', 'title': 'the cow jumped over the moon', 'description': 'the rain in spain fell mainly in the plain'}, {'id': '345', 'title': 'have a happy happy new year', 'description': None}]}\n"
     ]
    }
   ],
   "source": [
    "url = \"http://localhost:5000/predict\"\n",
    "print(payload)"
   ]
  },
  {
   "cell_type": "code",
   "execution_count": 14,
   "metadata": {},
   "outputs": [
    {
     "name": "stdout",
     "output_type": "stream",
     "text": [
      "<Response [200]>\n",
      "[{\"id\": \"12\", \"title\": \"mary had a little lamb\", \"description\": \"mary had a little lamb its fleece was white as snow\", \"score\": 1.0}, {\"id\": \"15\", \"title\": \"the quick brown fox\", \"description\": \"hey diddle diddle, the cat and the fiddle\", \"score\": 0.5702062367855973}, {\"id\": \"200\", \"title\": \"the cow jumped over the moon\", \"description\": \"the rain in spain fell mainly in the plain\", \"score\": 0.650617483439717}, {\"id\": \"345\", \"title\": \"have a happy happy new year\", \"description\": \"\", \"score\": 0.5764957967614355}]\n",
      "{'Content-Type': 'application/json', 'Content-Length': '516', 'Access-Control-Allow-Origin': '*', 'Server': 'Werkzeug/0.16.0 Python/3.7.4', 'Date': 'Sat, 02 Jan 2021 19:13:47 GMT'}\n"
     ]
    }
   ],
   "source": [
    "r = requests.post(url, json = payload)\n",
    "print(r)\n",
    "print(r.text)\n",
    "print(r.headers)"
   ]
  },
  {
   "cell_type": "code",
   "execution_count": null,
   "metadata": {},
   "outputs": [],
   "source": []
  }
 ],
 "metadata": {
  "kernelspec": {
   "display_name": "Python 3",
   "language": "python",
   "name": "python3"
  },
  "language_info": {
   "codemirror_mode": {
    "name": "ipython",
    "version": 3
   },
   "file_extension": ".py",
   "mimetype": "text/x-python",
   "name": "python",
   "nbconvert_exporter": "python",
   "pygments_lexer": "ipython3",
   "version": "3.7.4"
  }
 },
 "nbformat": 4,
 "nbformat_minor": 2
}
